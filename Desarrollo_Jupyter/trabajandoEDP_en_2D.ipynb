{
 "cells": [
  {
   "cell_type": "code",
   "execution_count": 1,
   "metadata": {},
   "outputs": [],
   "source": [
    "import numpy as np                    \n",
    "import matplotlib.pyplot as plt \n",
    "import time, sys   \n",
    "from mpl_toolkits.mplot3d import Axes3D##nueva librería necesaria para gráficos 3D\n",
    "from matplotlib import  cm as cm\n",
    "\n",
    "%matplotlib inline"
   ]
  },
  {
   "cell_type": "markdown",
   "metadata": {},
   "source": [
    "## Discretizando la derivada parcial\n",
    "\n",
    "En el espacio 2D, una cuadrícula rectangular (uniforme) se define por los puntos con coordenadas:\n",
    "\n",
    "$$x_i = x_0 +i \\Delta x$$\n",
    "\n",
    "$$y_i = y_0 +i \\Delta y$$\n",
    "\n",
    "Ahora, definamos $u_{i,j} = u(x_i,y_j)$ y apliquemos las fórmulas de diferencias finitas en cualquiera de las variables $ x, y $ *actuando por separado* en los índices $ i $ y $ j $. Todas las derivadas se basan en la expansión de Taylor 2D de un valor de punto de malla alrededor de $u_{i,j}$.\n",
    "\n",
    "Por lo tanto, para una derivada parcial de primer orden en la dirección $ x $, una fórmula de diferencias finitas es:\n",
    "\n",
    "$$ \\frac{\\partial u}{\\partial x}\\biggr\\rvert_{i,j} = \\frac{u_{i+1,j}-u_{i,j}}{\\Delta x}+\\mathcal{O}(\\Delta x),$$\n",
    "\n",
    "y de manera similar en la dirección $ y $. Por lo tanto, podemos escribir fórmulas de diferencia hacia atrás, diferencia hacia adelante o diferencia central en cada uno de las ideas que vamos a desarrollar en adelante."
   ]
  },
  {
   "cell_type": "markdown",
   "metadata": {},
   "source": [
    "\n",
    "# Ecuación diferencial de convección lineal.\n",
    "La EDP que rige la convección lineal 2-D se escribe como\n",
    "\n",
    "$$\\frac{\\partial u}{\\partial t}+c\\frac{\\partial u}{\\partial x} + c\\frac{\\partial u}{\\partial y} = 0$$\n",
    "\n",
    "Ésta es exactamente la misma forma que con la convección lineal 1-D, excepto que ahora tenemos dos dimensiones espaciales para tener en cuenta a medida que avanzamos en el tiempo.\n",
    "\n",
    "Nuevamente, el paso de tiempo se discretizará como una diferencia hacia adelante y ambos pasos espaciales se discretizarán como diferencias hacia atrás."
   ]
  },
  {
   "cell_type": "markdown",
   "metadata": {},
   "source": [
    "Con eso en mente, nuestra discretización del PDE debería ser relativamente sencilla.\n",
    "\n",
    "$$\\frac{u_{i,j}^{n+1}-u_{i,j}^n}{\\Delta t} + c\\frac{u_{i, j}^n-u_{i-1,j}^n}{\\Delta x} + c\\frac{u_{i,j}^n-u_{i,j-1}^n}{\\Delta y}=0.$$\n",
    "\n",
    "Resolviendo para la variable desconocida tenemos que:\n",
    "\n",
    "$$u_{i,j}^{n+1} = u_{i,j}^n-c \\frac{\\Delta t}{\\Delta x}(u_{i,j}^n-u_{i-1,j}^n)-c \\frac{\\Delta t}{\\Delta y}(u_{i,j}^n-u_{i,j-1}^n).$$\n",
    "\n",
    "Resolveremos esta ecuación con las siguientes condiciones iniciales:\n",
    "\n",
    "$$u(x,y) = \\begin{cases}\n",
    "\\begin{matrix}\n",
    "2\\ \\text{para} & 0.5 \\leq x, y \\leq 1 \\cr\n",
    "1\\ \\text{para} & \\text{c.c.}\\end{matrix}\\end{cases},$$\n",
    "\n",
    "y condiciones de frontera dadas por:\n",
    "\n",
    "$$u = 1\\ \\text{para } \\begin{cases}\n",
    "\\begin{matrix}\n",
    "x =  0,\\ 2 \\cr\n",
    "y =  0,\\ 2 \\end{matrix}\\end{cases}$$"
   ]
  },
  {
   "cell_type": "code",
   "execution_count": 2,
   "metadata": {},
   "outputs": [],
   "source": [
    "\n",
    "### declaración de variables\n",
    "nx = 101\n",
    "ny = 101\n",
    "nt = 100\n",
    "c = 1\n",
    "dx = 2 / (nx - 1)\n",
    "dy = 2 / (ny - 1)\n",
    "sigma = .2\n",
    "dt = sigma * dx\n",
    "\n",
    "x = np.linspace(0, 2, nx)\n",
    "y = np.linspace(0, 2, ny)\n",
    "\n",
    "u = np.ones((nx, ny)) \n",
    "un = np.ones((nx, ny)) "
   ]
  },
  {
   "cell_type": "code",
   "execution_count": 3,
   "metadata": {},
   "outputs": [],
   "source": [
    "###Asignando condiciones iniciales C-I.\n",
    "\n",
    "##establecer la función del sombrero C-I. : u(.5<=x<=1 && .5<=y<=1 ) es 2\n",
    "def funcion_inicial(m = 2):\n",
    "    u = np.ones((nx, ny))\n",
    "    u[int(.5 / dx):int(1 / dx + 1),int(.5 / dy):int(1 / dy + 1)] = m \n",
    "    return u\n",
    "\n",
    "###Pintando la condición inicial\n",
    "##el parámetro figsize se puede utilizar para producir imágenes de diferentes tamaños\n",
    "\n",
    "def mostrar_3D(u):\n",
    "    fig = plt.figure(figsize=(11, 7), dpi=100)\n",
    "    ax = fig.gca(projection='3d')                      \n",
    "    X, Y = np.meshgrid(x, y)                            \n",
    "    surf = ax.plot_surface(X, Y, u,cmap=cm.viridis, rstride=1, cstride=1)\n",
    "    #ax.set_zlim(1,2.1)\n",
    "    ax.set_xlabel('$x$')\n",
    "    ax.set_ylabel('$y$');"
   ]
  },
  {
   "cell_type": "markdown",
   "metadata": {},
   "source": [
    "# Iterando en dos dimensiones\n",
    "\n",
    "Para evaluar la onda en dos dimensiones se requiere el uso de varios bucles for anidados para cubrir todas las \"i\" y las \"j\". Dado que Python no es un lenguaje compilado, puede haber una notable ralentización en la ejecución del código con múltiples bucles for. Primero intente evaluar el código de convección 2D y vea qué resultados produce."
   ]
  },
  {
   "cell_type": "code",
   "execution_count": 4,
   "metadata": {},
   "outputs": [],
   "source": [
    "def ECL_2d(u):\n",
    "    for n in range(nt + 1): ##recorrer el número de pasos de tiempo\n",
    "        un = u.copy()\n",
    "        row, col = u.shape\n",
    "        for i in range(1, col):\n",
    "            for j in range(1, row):\n",
    "                u[i, j] # ¿complete la discretización del problema\n",
    "                \n",
    "                u[0, :] \n",
    "                u[-1, :]\n",
    "                u[:, 0] \n",
    "                u[:, -1]\n",
    "    return u"
   ]
  },
  {
   "cell_type": "code",
   "execution_count": 5,
   "metadata": {},
   "outputs": [],
   "source": [
    "### Mostremos los resultados de iteración\n",
    "#sol"
   ]
  },
  {
   "cell_type": "markdown",
   "metadata": {},
   "source": [
    "### Mejorando; operaciones matriciales\n",
    "##### ------------------------------\n",
    "Aquí se implementa el mismo código de convección 2D, pero en lugar de utilizar bucles for anidados, se evalúan los mismos cálculos mediante operaciones de matriz."
   ]
  },
  {
   "cell_type": "code",
   "execution_count": 6,
   "metadata": {},
   "outputs": [],
   "source": [
    "def ECL_2dspeed(u):\n",
    "    for n in range(nt + 1): ##recorrer el número de pasos de tiempo\n",
    "        un = u.copy()\n",
    "        u[1:, 1:] = (un[1:, 1:] - (c * dt / dx * (un[1:, 1:] - un[:-1, 1:])) -\n",
    "                              (c * dt / dy * (un[1:, 1:] - un[1:, :-1])))\n",
    "        u[0, :] = 1\n",
    "        u[-1, :] = 1\n",
    "        u[:, 0] = 1\n",
    "        u[:, -1] = 1\n",
    "    return u  "
   ]
  },
  {
   "cell_type": "code",
   "execution_count": 7,
   "metadata": {},
   "outputs": [],
   "source": [
    "### Mostremos los resultados de iteración\n",
    "#sol"
   ]
  },
  {
   "cell_type": "markdown",
   "metadata": {},
   "source": [
    "# Aprendiendo el cómo y  el porqué...\n",
    "\n",
    "La lección en video que lo guía a través de los detalles de lo hecho en este modulo (y en adelante hasta el Paso 8) es **Lección en video 6** en You Tube:"
   ]
  },
  {
   "cell_type": "code",
   "execution_count": 8,
   "metadata": {},
   "outputs": [
    {
     "data": {
      "image/jpeg": "[encoded data removed]",
      "text/html": [
       "\n",
       "        <iframe\n",
       "            width=\"400\"\n",
       "            height=\"300\"\n",
       "            src=\"https://www.youtube.com/embed/tUg_dE3NXoY\"\n",
       "            frameborder=\"0\"\n",
       "            allowfullscreen\n",
       "        ></iframe>\n",
       "        "
      ],
      "text/plain": [
       "<IPython.lib.display.YouTubeVideo at 0x185913b4430>"
      ]
     },
     "execution_count": 8,
     "metadata": {},
     "output_type": "execute_result"
    }
   ],
   "source": [
    "from IPython.display import YouTubeVideo\n",
    "YouTubeVideo('tUg_dE3NXoY')"
   ]
  },
  {
   "cell_type": "markdown",
   "metadata": {},
   "source": [
    "## Sistema de ecuaciones de convección no lineales \n",
    "Ahora resolvemos la convección 2D, representada por el par de **ecuaciones diferenciales parciales acopladas** a continuación:\n",
    "\n",
    "$$\\frac{\\partial u}{\\partial t} + u \\frac{\\partial u}{\\partial x} + v \\frac{\\partial u}{\\partial y} = 0$$\n",
    "\n",
    "$$\\frac{\\partial v}{\\partial t} + u \\frac{\\partial v}{\\partial x} + v \\frac{\\partial v}{\\partial y} = 0$$\n",
    "\n",
    "Discretizar estas ecuaciones usando los métodos que hemos aplicado anteriormente da como resultado:"
   ]
  },
  {
   "cell_type": "markdown",
   "metadata": {},
   "source": [
    "$$\\frac{u_{i,j}^{n+1}-u_{i,j}^n}{\\Delta t} + u_{i,j}^n \\frac{u_{i,j}^n-u_{i-1,j}^n}{\\Delta x} + v_{i,j}^n \\frac{u_{i,j}^n-u_{i,j-1}^n}{\\Delta y} = 0$$\n",
    "\n",
    "$$\\frac{v_{i,j}^{n+1}-v_{i,j}^n}{\\Delta t} + u_{i,j}^n \\frac{v_{i,j}^n-v_{i-1,j}^n}{\\Delta x} + v_{i,j}^n \\frac{v_{i,j}^n-v_{i,j-1}^n}{\\Delta y} = 0$$"
   ]
  },
  {
   "cell_type": "markdown",
   "metadata": {},
   "source": [
    "Reordenando ambas ecuaciones, resolvemos $ u_ {i, j} ^ {n + 1} $ y $ v_ {i, j} ^ {n + 1} $, respectivamente. Tenga en cuenta que estas ecuaciones también están acopladas.\n",
    "\n",
    "$$u_{i,j}^{n+1} = u_{i,j}^n - u_{i,j} \\frac{\\Delta t}{\\Delta x} (u_{i,j}^n-u_{i-1,j}^n) - v_{i,j}^n \\frac{\\Delta t}{\\Delta y} (u_{i,j}^n-u_{i,j-1}^n)$$\n",
    "\n",
    "$$v_{i,j}^{n+1} = v_{i,j}^n - u_{i,j} \\frac{\\Delta t}{\\Delta x} (v_{i,j}^n-v_{i-1,j}^n) - v_{i,j}^n \\frac{\\Delta t}{\\Delta y} (v_{i,j}^n-v_{i,j-1}^n)$$"
   ]
  },
  {
   "cell_type": "markdown",
   "metadata": {},
   "source": [
    "## Condiciones iniciales\n",
    "\n",
    "Las condiciones iniciales son las mismas que usamos para la convección 1D, aplicadas tanto en la dirección x como en la y.\n",
    "\n",
    "$$u,\\ v\\ = \\begin{cases}\\begin{matrix}\n",
    "2 & \\text{para } x,y \\in (0.5, 1)\\times(0.5,1) \\cr\n",
    "1 & \\text{c.c}\n",
    "\\end{matrix}\\end{cases}$$\n"
   ]
  },
  {
   "cell_type": "markdown",
   "metadata": {},
   "source": [
    "## Condiciones de frontera\n",
    "Las condiciones de contorno mantienen u y v iguales a 1 a lo largo de los límites de la cuadrícula\n",
    "\n",
    "$$u = 1,\\ v = 1 \\text{ para } \\begin{cases} \\begin{matrix}x=0,2\\cr y=0,2 \\end{matrix}\\end{cases}$$"
   ]
  },
  {
   "cell_type": "code",
   "execution_count": 8,
   "metadata": {},
   "outputs": [],
   "source": [
    "def ECnLacoplada(u,v):\n",
    "    for n in range(nt + 1): ## recorrer el número de pasos de tiempo\n",
    "\n",
    "        un = u.copy()\n",
    "        vn = v.copy()\n",
    "        u[1:, 1:] = (un[1:, 1:] - \n",
    "                 (un[1:, 1:] * c * dt / dx * (un[1:, 1:] - un[:-1, 1:])) -\n",
    "                  vn[1:, 1:] * c * dt / dy * (un[1:, 1:] - un[1:, :-1]))\n",
    "        v[1:, 1:] = (vn[1:, 1:] -\n",
    "                 (un[1:, 1:] * c * dt / dx * (vn[1:, 1:] - vn[:-1, 1:])) -\n",
    "                 vn[1:, 1:] * c * dt / dy * (vn[1:, 1:] - vn[1:, :-1]))\n",
    "    \n",
    "        u[0, :] = 1\n",
    "        u[-1, :] = 1\n",
    "        u[:, 0] = 1\n",
    "        u[:, -1] = 1\n",
    "    \n",
    "        v[0, :] = 1\n",
    "        v[-1, :] = 1\n",
    "        v[:, 0] = 1\n",
    "        v[:, -1] = 1\n",
    "    return u, v"
   ]
  },
  {
   "cell_type": "code",
   "execution_count": 9,
   "metadata": {},
   "outputs": [],
   "source": [
    "# Veamos los resultados de iteración, Juegue con los valores de m, tomando m \\in [-1,4]"
   ]
  },
  {
   "cell_type": "code",
   "execution_count": 11,
   "metadata": {},
   "outputs": [],
   "source": [
    "#mostrar_3D(v)"
   ]
  },
  {
   "cell_type": "markdown",
   "metadata": {},
   "source": [
    "## Ecuación de Difusión en 2-D\n",
    "\n",
    "\n",
    "Y aquí está la ecuación de difusión 2D:\n",
    "\n",
    "$$\\frac{\\partial u}{\\partial t} = \\nu \\frac{\\partial ^2 u}{\\partial x^2} + \\nu \\frac{\\partial ^2 u}{\\partial y^2}$$\n",
    "\n",
    "Cuya discretización usando esquema de diferencias finitas es \n",
    "\n",
    "$$\\frac{u_{i,j}^{n+1} - u_{i,j}^n}{\\Delta t} = \\nu \\frac{u_{i+1,j}^n - 2 u_{i,j}^n + u_{i-1,j}^n}{\\Delta x^2} + \\nu \\frac{u_{i,j+1}^n-2 u_{i,j}^n + u_{i,j-1}^n}{\\Delta y^2}$$\n",
    "\n",
    "Resolviendo para $u_{i,j}^{n+1}$, obtenemos\n",
    "\n",
    "$$\n",
    "\\begin{split}\n",
    "u_{i,j}^{n+1} = u_{i,j}^n &+ \\frac{\\nu \\Delta t}{\\Delta x^2}(u_{i+1,j}^n - 2 u_{i,j}^n + u_{i-1,j}^n) \\\\\n",
    "&+ \\frac{\\nu \\Delta t}{\\Delta y^2}(u_{i,j+1}^n-2 u_{i,j}^n + u_{i,j-1}^n)\n",
    "\\end{split}\n",
    "$$"
   ]
  },
  {
   "cell_type": "code",
   "execution_count": 20,
   "metadata": {},
   "outputs": [],
   "source": [
    "###Volviendo a declarar las variables \n",
    "nx = 31\n",
    "ny = 31\n",
    "nt = 17\n",
    "nu = .05\n",
    "dx = 2 / (nx - 1)\n",
    "dy = 2 / (ny - 1)\n",
    "sigma = .25\n",
    "dt = sigma * dx * dy / nu\n",
    "\n",
    "x = np.linspace(0, 2, nx)\n",
    "y = np.linspace(0, 2, ny)\n",
    "\n",
    "u = np.ones((ny, nx))  \n",
    "un = np.ones((ny, nx))"
   ]
  },
  {
   "cell_type": "code",
   "execution_count": 13,
   "metadata": {},
   "outputs": [],
   "source": [
    "def ED_2dspeed(u,nt):# función de la ecuación de difusión, tomando diferentes tiempos\n",
    "    for n in range(nt + 1): \n",
    "        un = u.copy()\n",
    "        u[1:-1, 1:-1] = (un[1:-1,1:-1] + \n",
    "                        nu * dt / dx**2 * \n",
    "                        (un[2:, 1:-1] - 2 * un[1:-1, 1:-1] + un[0:-2, 1:-1]) +\n",
    "                        nu * dt / dy**2 * \n",
    "                        (un[1: -1,2:] - 2 * un[1:-1, 1:-1] + un[1:-1, 0:-2]))\n",
    "        u[0, :] = 1\n",
    "        u[-1, :] = 1\n",
    "        u[:, 0] = 1\n",
    "        u[:, -1] = 1\n",
    "    return u"
   ]
  },
  {
   "cell_type": "code",
   "execution_count": 14,
   "metadata": {},
   "outputs": [],
   "source": [
    "# Juguemos un poco, para difetentes nt, veamos que pasa\n",
    "# Para ser par precisos en las observaciones, fije los limites de la gráfica en el eje z"
   ]
  },
  {
   "cell_type": "markdown",
   "metadata": {},
   "source": [
    "## Ecuación de Burgers en 2-D\n",
    "\n",
    "Recuerde, la ecuación de Burgers puede generar soluciones discontinuas a partir de una condición inicial que es suave, es decir, puede desarrollar \"choques\". ¡Queremos ver esto en dos dimensiones ahora!\n",
    "\n",
    "Aquí está nuestro conjunto acoplado de PDE:\n",
    "\n",
    "$$\n",
    "\\frac{\\partial u}{\\partial t} + u \\frac{\\partial u}{\\partial x} + v \\frac{\\partial u}{\\partial y} = \\nu \\; \\left(\\frac{\\partial ^2 u}{\\partial x^2} + \\frac{\\partial ^2 u}{\\partial y^2}\\right)$$\n",
    "\n",
    "$$\n",
    "\\frac{\\partial v}{\\partial t} + u \\frac{\\partial v}{\\partial x} + v \\frac{\\partial v}{\\partial y} = \\nu \\; \\left(\\frac{\\partial ^2 v}{\\partial x^2} + \\frac{\\partial ^2 v}{\\partial y^2}\\right)$$"
   ]
  },
  {
   "cell_type": "markdown",
   "metadata": {},
   "source": [
    "Conocemos la discretización de cada término, así\n",
    "\n",
    "$$\n",
    "\\begin{split}\n",
    "& \\frac{u_{i,j}^{n+1} - u_{i,j}^n}{\\Delta t} + u_{i,j}^n \\frac{u_{i,j}^n-u_{i-1,j}^n}{\\Delta x} + v_{i,j}^n \\frac{u_{i,j}^n - u_{i,j-1}^n}{\\Delta y} = \\\\\n",
    "& \\qquad \\nu \\left( \\frac{u_{i+1,j}^n - 2u_{i,j}^n+u_{i-1,j}^n}{\\Delta x^2} + \\frac{u_{i,j+1}^n - 2u_{i,j}^n + u_{i,j-1}^n}{\\Delta y^2} \\right)\n",
    "\\end{split}\n",
    "$$"
   ]
  },
  {
   "cell_type": "markdown",
   "metadata": {},
   "source": [
    "$$\n",
    "\\begin{split}\n",
    "& \\frac{v_{i,j}^{n+1} - v_{i,j}^n}{\\Delta t} + u_{i,j}^n \\frac{v_{i,j}^n-v_{i-1,j}^n}{\\Delta x} + v_{i,j}^n \\frac{v_{i,j}^n - v_{i,j-1}^n}{\\Delta y} = \\\\\n",
    "& \\qquad \\nu \\left( \\frac{v_{i+1,j}^n - 2v_{i,j}^n+v_{i-1,j}^n}{\\Delta x^2} + \\frac{v_{i,j+1}^n - 2v_{i,j}^n + v_{i,j-1}^n}{\\Delta y^2} \\right)\n",
    "\\end{split}\n",
    "$$"
   ]
  },
  {
   "cell_type": "markdown",
   "metadata": {},
   "source": [
    "\n",
    "Y ahora, reorganizaremos cada una de estas ecuaciones para la única incógnita: los dos componentes $ u, v $ de la solución en el siguiente paso de tiempo:"
   ]
  },
  {
   "cell_type": "markdown",
   "metadata": {},
   "source": [
    "$$\n",
    "\\begin{split}\n",
    "u_{i,j}^{n+1} = & u_{i,j}^n - \\frac{\\Delta t}{\\Delta x} u_{i,j}^n (u_{i,j}^n - u_{i-1,j}^n)  - \\frac{\\Delta t}{\\Delta y} v_{i,j}^n (u_{i,j}^n - u_{i,j-1}^n) \\\\\n",
    "&+ \\frac{\\nu \\Delta t}{\\Delta x^2}(u_{i+1,j}^n-2u_{i,j}^n+u_{i-1,j}^n) + \\frac{\\nu \\Delta t}{\\Delta y^2} (u_{i,j+1}^n - 2u_{i,j}^n + u_{i,j-1}^n)\n",
    "\\end{split}\n",
    "$$\n",
    "$$\n",
    "\\begin{split}\n",
    "v_{i,j}^{n+1} = & v_{i,j}^n - \\frac{\\Delta t}{\\Delta x} u_{i,j}^n (v_{i,j}^n - v_{i-1,j}^n) - \\frac{\\Delta t}{\\Delta y} v_{i,j}^n (v_{i,j}^n - v_{i,j-1}^n) \\\\\n",
    "&+ \\frac{\\nu \\Delta t}{\\Delta x^2}(v_{i+1,j}^n-2v_{i,j}^n+v_{i-1,j}^n) + \\frac{\\nu \\Delta t}{\\Delta y^2} (v_{i,j+1}^n - 2v_{i,j}^n + v_{i,j-1}^n)\n",
    "\\end{split}\n",
    "$$"
   ]
  },
  {
   "cell_type": "code",
   "execution_count": 15,
   "metadata": {},
   "outputs": [],
   "source": [
    "###Jugando con las variables declaradas\n",
    "nx = 41\n",
    "ny = 41\n",
    "nt = 120\n",
    "c = 1\n",
    "dx = 2 / (nx - 1)\n",
    "dy = 2 / (ny - 1)\n",
    "sigma = .0009\n",
    "nu = 0.01\n",
    "dt = sigma * dx * dy / nu\n",
    "\n",
    "x = np.linspace(0, 2, nx)\n",
    "y = np.linspace(0, 2, ny)\n",
    "\n",
    "u = np.ones((nx, ny)) \n",
    "un = np.ones((nx, ny)) "
   ]
  },
  {
   "cell_type": "code",
   "execution_count": 19,
   "metadata": {},
   "outputs": [],
   "source": [
    "def EB_2dspeed(u, v):\n",
    "    for n in range(nt + 1): \n",
    "        un = u.copy()\n",
    "        vn = v.copy()\n",
    "\n",
    "        u[1:-1, 1:-1] = (un[1:-1, 1:-1] -\n",
    "                     dt / dx * un[1:-1, 1:-1] * \n",
    "                     (un[1:-1, 1:-1] - un[0:-2, 1:-1]) - \n",
    "                     dt / dy * vn[1:-1, 1:-1] * \n",
    "                     (un[1:-1, 1:-1] - un[1:-1,0:-2]) + \n",
    "                     nu * dt / dx**2 * \n",
    "                     (un[2:,1:-1] - 2 * un[1:-1, 1:-1] + un[0:-2,1:-1]) + \n",
    "                     nu * dt / dy**2 * \n",
    "                     (un[1:-1,2:] - 2 * un[1:-1, 1:-1] + un[1:-1,0:-2]))\n",
    "    \n",
    "        v[1:-1, 1:-1] = (vn[1:-1, 1:-1] - \n",
    "                     dt / dx * un[1:-1, 1:-1] *\n",
    "                     (vn[1:-1, 1:-1] - vn[0:-2,1:-1]) -\n",
    "                     dt / dy * vn[1:-1, 1:-1] * \n",
    "                    (vn[1:-1, 1:-1] - vn[1:-1,0:-2]) + \n",
    "                     nu * dt / dx**2 * \n",
    "                     (vn[2:,1:-1] - 2 * vn[1:-1, 1:-1] + vn[0:-2,1:-1]) +\n",
    "                     nu * dt / dy**2 *\n",
    "                     (vn[1:-1,2:] - 2 * vn[1:-1, 1:-1] + vn[1:-1,0:-2]))\n",
    "     \n",
    "        u[0, :] = 1\n",
    "        u[-1, :] = 1\n",
    "        u[:, 0] = 1\n",
    "        u[:, -1] = 1\n",
    "    \n",
    "        v[0, :] = 1\n",
    "        v[-1, :] = 1\n",
    "        v[:, 0] = 1\n",
    "        v[:, -1] = 1\n",
    "    return u, v"
   ]
  },
  {
   "cell_type": "code",
   "execution_count": 18,
   "metadata": {},
   "outputs": [],
   "source": [
    "# Muestre los resultados obtenidos"
   ]
  }
 ],
 "metadata": {
  "kernelspec": {
   "display_name": "Python 3",
   "language": "python",
   "name": "python3"
  },
  "language_info": {
   "codemirror_mode": {
    "name": "ipython",
    "version": 3
   },
   "file_extension": ".py",
   "mimetype": "text/x-python",
   "name": "python",
   "nbconvert_exporter": "python",
   "pygments_lexer": "ipython3",
   "version": "3.8.5"
  }
 },
 "nbformat": 4,
 "nbformat_minor": 4
}
